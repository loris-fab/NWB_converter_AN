{
 "cells": [
  {
   "cell_type": "markdown",
   "id": "71ac0b88",
   "metadata": {},
   "source": [
    "# Preprocessing .mat for NWB"
   ]
  },
  {
   "cell_type": "code",
   "execution_count": 1,
   "id": "eee9f332",
   "metadata": {},
   "outputs": [],
   "source": [
    "import numpy as np\n",
    "import h5py\n",
    "import os\n",
    "import yaml\n",
    "import pandas as pd\n",
    "from datetime import datetime\n",
    "import shutil\n",
    "import importlib\n",
    "import numpy as np\n",
    "import pandas as pd\n",
    "import LO_NWB_conv\n",
    "\n"
   ]
  },
  {
   "cell_type": "markdown",
   "id": "3b848cdc",
   "metadata": {},
   "source": [
    "# Load data "
   ]
  },
  {
   "cell_type": "markdown",
   "id": "0785ecbc",
   "metadata": {},
   "source": [
    "## mat"
   ]
  },
  {
   "cell_type": "code",
   "execution_count": 28,
   "id": "d5df6c09",
   "metadata": {},
   "outputs": [
    {
     "name": "stdout",
     "output_type": "stream",
     "text": [
      "Contenu de 'Data' :\n",
      " - ARAindex → shape: (75, 1), dtype: float64\n",
      " - Area → shape: (75, 1), dtype: object\n",
      " - BaselineFR_Mean → shape: (75, 1), dtype: float64\n",
      " - BaselineFR_Session → shape: (75, 1), dtype: object\n",
      " - CRIndices → shape: (1, 583), dtype: uint8\n",
      " - ClusterCounter → shape: (75, 1), dtype: float64\n",
      " - EngagedTrials → shape: (583, 1), dtype: uint8\n",
      " - FAIndices → shape: (1, 583), dtype: uint8\n",
      " - HitIndices → shape: (1, 583), dtype: uint8\n",
      " - ISI_Violation → shape: (75, 1), dtype: float64\n",
      " - ISO_Distance → shape: (75, 1), dtype: float64\n",
      " - JawOnsetsTms → shape: (583, 1), dtype: float64\n",
      " - JawTrace → shape: (583, 1000), dtype: float64\n",
      " - LFPs → shape: (3, 1), dtype: object\n",
      " - LickData → shape: (482142, 1), dtype: float64\n",
      " - LickTime → shape: (482142, 1), dtype: float64\n",
      " - LightIndices → shape: (1, 583), dtype: float64\n",
      " - MDS → shape: (1, 1), dtype: float64\n",
      " - ML_DV_AP → shape: (75, 1), dtype: object\n",
      " - ML_DV_AP_32 → shape: (75, 1), dtype: object\n",
      " - MissIndices → shape: (1, 583), dtype: uint8\n",
      " - NoseSideTrace → shape: (583, 1000), dtype: float64\n",
      " - NoseTopTrace → shape: (583, 1000), dtype: float64\n",
      " - QuietW_Times → shape: (583, 1), dtype: object\n",
      " - RP_Violation → shape: (75, 1), dtype: float64\n",
      " - ReactionTimes → shape: (1, 583), dtype: float64\n",
      " - Spike_MainChannel → shape: (75, 1), dtype: float64\n",
      " - SpontLicksPiezo_FakeTrialOn → shape: (67, 1), dtype: float64\n",
      " - SpontLicksPiezo_LickOn → shape: (67, 1), dtype: float64\n",
      " - SpontLicksVideo_FakeTrialOn → shape: (9, 1), dtype: float64\n",
      " - SpontLicksVideo_JawOn → shape: (7, 1), dtype: float64\n",
      " - SpontLicksVideo_TrialOn → shape: (7, 1), dtype: float64\n",
      " - StimAmps → shape: (1, 583), dtype: float64\n",
      " - StimIndices → shape: (1, 583), dtype: float64\n",
      " - TongueTrace → shape: (583, 1000), dtype: float64\n",
      " - TrialOnsets_All → shape: (583, 1), dtype: float64\n",
      " - VideoOnsets → shape: (583, 1), dtype: float64\n",
      " - Video_sr → shape: (1, 1), dtype: float64\n",
      " - WhiskerAngle → shape: (583, 1000), dtype: float64\n",
      " - Whisking_Indices → shape: (583, 1), dtype: object\n",
      " - Whisking_Indices_NoLick → shape: (583, 1), dtype: object\n",
      " - Whisking_Times → shape: (583, 1), dtype: object\n",
      " - Whisking_Times_NoLick → shape: (583, 1), dtype: object\n",
      " - clusterID → shape: (75, 1), dtype: float64\n",
      " - date → shape: (8, 1), dtype: uint16\n",
      " - depthHisto → shape: (75, 1), dtype: float64\n",
      " - expert → shape: (1, 1), dtype: float64\n",
      " - mouse → shape: (5, 1), dtype: uint16\n",
      " - safe_name → shape: (75, 1), dtype: object\n",
      " - session → shape: (1, 1), dtype: float64\n",
      " - spikets → shape: (75, 1), dtype: object\n",
      " - struct → shape: (75, 1), dtype: object\n",
      " - struct_acr → shape: (75, 1), dtype: object\n",
      " - threshold_amp → shape: (1, 1), dtype: float64\n",
      " - type → shape: (75, 1), dtype: object\n",
      " - width → shape: (75, 1), dtype: float64\n"
     ]
    }
   ],
   "source": [
    "import scipy.io\n",
    "import h5py\n",
    "\n",
    "filename = \"data/AO039_20190626.mat\"  \n",
    "\n",
    "with h5py.File(filename, 'r') as f:\n",
    "    data_group = f['Data']\n",
    "    data_ref = f[\"#refs#\"]\n",
    "    #print(\"Références trouvées :\")\n",
    "    #for key in data_ref.keys():\n",
    "    #    print(f\" - {key} → shape: {data_ref[key].shape}, dtype: {data_ref[key].dtype}\")\n",
    "    print(\"Contenu de 'Data' :\")\n",
    "    for key in data_group.keys():\n",
    "        print(f\" - {key} → shape: {data_group[key].shape}, dtype: {data_group[key].dtype}\")\n"
   ]
  },
  {
   "cell_type": "code",
   "execution_count": 29,
   "id": "d591fa06",
   "metadata": {},
   "outputs": [],
   "source": [
    "with h5py.File(filename, 'r') as f:\n",
    "\tdata_group = f['Data'] if 'Data' in f else f\n",
    "\tdata = {key: data_group[key][()] for key in data_group.keys()}\n"
   ]
  },
  {
   "cell_type": "code",
   "execution_count": 80,
   "id": "33730f40",
   "metadata": {},
   "outputs": [
    {
     "data": {
      "text/plain": [
       "array([0, 0, 2, 2, 0, 2, 0, 2, 1, 2, 0, 2, 2, 0, 0, 2, 2, 0, 2, 2, 1, 0,\n",
       "       2, 0, 2, 0, 0, 2, 2, 1, 3, 0, 2, 0, 3, 0, 2, 2, 0, 2, 0, 2, 0, 0,\n",
       "       2, 3, 1, 2, 0, 0, 0, 2, 2, 0, 2, 0, 0, 2, 2, 2, 2, 0, 2, 2, 2, 1,\n",
       "       0, 0, 2, 3, 1, 2, 0, 3, 2, 1, 1, 0, 2, 2, 2, 0, 0, 0, 2, 0, 2, 2,\n",
       "       0, 0, 3, 2, 3, 0, 0, 0, 2, 2, 0, 2, 0, 2, 2, 2, 0, 0, 0, 2, 2, 0,\n",
       "       2, 0, 2, 2, 0, 0, 2, 2, 2, 0, 0, 2, 1, 2, 0, 2, 2, 0, 0, 0, 0, 0,\n",
       "       2, 2, 0, 1, 2, 0, 0, 2, 2, 2, 0, 1, 2, 2, 2, 0, 3, 3, 0, 0, 0, 3,\n",
       "       2, 2, 1, 1, 2, 0, 0, 2, 0, 2, 2, 3, 0, 0, 3, 2, 1, 2, 0, 2, 2, 0,\n",
       "       0, 2, 1, 1, 0, 2, 2, 2, 0, 4, 0, 2, 0, 2, 2, 2, 1, 1, 1, 2, 2, 2,\n",
       "       2, 2, 0, 1, 2, 2, 1, 1, 2, 1, 0, 2, 0, 2, 2, 2, 2, 0, 1, 0, 0, 2,\n",
       "       2, 1, 2, 0, 2, 2, 1, 1, 2, 1, 2, 3, 2, 1, 1, 2, 2, 0, 2, 4, 0, 0,\n",
       "       0, 2, 2, 2, 1, 0, 0, 3, 2, 3, 2, 0, 0, 2, 2, 0, 2, 2, 1, 0, 2, 0,\n",
       "       2, 2, 0, 0, 1, 0, 2, 1, 2, 2, 2, 1, 2, 4, 2, 0, 0, 2, 0, 2, 1, 2,\n",
       "       1, 2, 1, 2, 1, 1, 2, 2, 2, 2, 2, 0, 0, 1, 1, 2, 0, 0, 2, 2, 1, 1,\n",
       "       4, 2, 2, 2, 2, 1, 2, 1, 1, 2, 4, 2, 1, 2, 1, 0, 3, 1, 2, 0, 2, 1,\n",
       "       1, 1, 2, 2, 2, 0, 1, 0, 0, 0, 0, 2, 2, 0, 2, 0, 2, 0, 2, 0, 3, 0,\n",
       "       0, 2, 2, 2, 1, 1, 1, 2, 1, 1, 0, 2, 2, 4, 1, 2, 0, 2, 2, 1, 1, 0,\n",
       "       2, 2, 2, 0, 1, 2, 0, 2, 1, 1, 1, 2, 2, 2, 2, 0, 0, 0, 1, 1, 2, 2,\n",
       "       2, 2, 1, 1, 2, 2, 2, 0, 2, 1, 1, 2, 2, 1, 1, 1, 2, 0, 2, 2, 0, 0,\n",
       "       2, 2, 1, 2, 1, 1, 0, 2, 2, 2, 2, 0, 1, 1, 2, 0, 1, 2, 2, 1, 1, 2,\n",
       "       1, 2, 2, 2, 2, 1, 0, 0, 1, 1, 2, 2, 2, 1, 2, 2, 1, 2, 1, 1, 0, 1,\n",
       "       2, 2, 1, 0, 0, 2, 2, 1, 2, 0, 2, 1, 2, 2, 0, 2, 1, 1, 2, 0, 1, 2,\n",
       "       1, 2, 2, 2, 2, 1, 1, 2, 2, 0, 2, 2, 0, 2, 1, 1, 2, 2, 1, 4, 2, 0,\n",
       "       0, 2, 1, 2, 2, 1, 1, 2, 2, 2, 0, 1, 1, 1, 2, 2, 2, 1, 2, 1, 0, 2,\n",
       "       0, 0, 2, 1, 2, 2, 1, 2, 1, 1, 2, 2, 1, 1, 1, 2, 1, 1, 1, 2, 2, 2,\n",
       "       1, 1, 1, 0, 2, 2, 2, 4, 1, 1, 2, 1, 0, 2, 2, 4, 2, 2, 1, 1, 1, 1,\n",
       "       2, 1, 2, 2, 2, 1, 1, 1, 2, 2, 2])"
      ]
     },
     "execution_count": 80,
     "metadata": {},
     "output_type": "execute_result"
    }
   ],
   "source": [
    "\n",
    "hit = np.asarray(data['HitIndices']).flatten().astype(bool)\n",
    "miss = np.asarray(data['MissIndices']).flatten().astype(bool)\n",
    "cr = np.asarray(data['CRIndices']).flatten().astype(bool)\n",
    "fa = np.asarray(data['FAIndices']).flatten().astype(bool)\n",
    "\n",
    "n_trials = len(hit)\n",
    "response_labels = np.full(n_trials, 'Unlabeled', dtype=object)  # valeur par défaut\n",
    "\n",
    "# Attribution avec priorité : FA < CR < MISS < HIT\n",
    "response_labels[fa] = 'FA'\n",
    "response_labels[cr] = 'CR'\n",
    "response_labels[miss] = 'MISS'\n",
    "response_labels[hit] = 'HIT'\n",
    "\n",
    "labels = ['HIT', 'MISS', 'CR', 'FA', 'Unlabeled']\n",
    "label_to_int = {label: i for i, label in enumerate(labels)}\n",
    "\n",
    "response_data = np.array([label_to_int[label] for label in response_labels])\n",
    "response_data."
   ]
  },
  {
   "cell_type": "code",
   "execution_count": 82,
   "id": "8955e00d",
   "metadata": {},
   "outputs": [
    {
     "name": "stdout",
     "output_type": "stream",
     "text": [
      "Counter({'CR': 271, 'HIT': 150, 'MISS': 136, 'FA': 17, 'Unlabeled': 9})\n",
      "150 136 271 17 583\n"
     ]
    }
   ],
   "source": [
    "import collections\n",
    "print(collections.Counter(response_labels))\n",
    "print(hit.sum(), miss.sum(), cr.sum(), fa.sum(), response_labels.size)"
   ]
  },
  {
   "cell_type": "code",
   "execution_count": 76,
   "id": "88e762fd",
   "metadata": {},
   "outputs": [
    {
     "name": "stdout",
     "output_type": "stream",
     "text": [
      "[ True  True False False  True False  True False False False  True False\n",
      " False  True  True False False  True False False False  True False  True\n",
      " False  True  True False False False False  True False  True False  True\n",
      " False False  True False  True False  True  True False False False False\n",
      "  True  True  True False False  True False  True  True False False False\n",
      " False  True False False False False  True  True False False False False\n",
      "  True False False False False  True False False False  True  True  True\n",
      " False  True False False  True  True False False False  True  True  True\n",
      " False False  True False  True False False False  True  True  True False\n",
      " False  True False  True False False  True  True False False False  True\n",
      "  True False False False  True False False  True  True  True  True  True\n",
      " False False  True False False  True  True False False False  True False\n",
      " False False False  True False False  True  True  True False False False\n",
      " False False False  True  True False  True False False False  True  True\n",
      " False False False False  True False False  True  True False False False\n",
      "  True False False False  True False  True False  True False False False\n",
      " False False False False False False False False  True False False False\n",
      " False False False False  True False  True False False False False  True\n",
      " False  True  True False False False False  True False False False False\n",
      " False False False False False False False False False  True False False\n",
      "  True  True  True False False False False  True  True False False False\n",
      " False  True  True False False  True False False False  True False  True\n",
      " False False  True  True False  True False False False False False False\n",
      " False False False  True  True False  True False False False False False\n",
      " False False False False False False False False False  True  True False\n",
      " False False  True  True False False False False False False False False\n",
      " False False False False False False False False False False False  True\n",
      " False False False  True False False False False False False False  True\n",
      " False  True  True  True  True False False  True False  True False  True\n",
      " False  True False  True  True False False False False False False False\n",
      " False False  True False False False False False  True False False False\n",
      " False  True False False False  True False False  True False False False\n",
      " False False False False False  True  True  True False False False False\n",
      " False False False False False False False  True False False False False\n",
      " False False False False False  True False False  True  True False False\n",
      " False False False False  True False False False False  True False False\n",
      " False  True False False False False False False False False False False\n",
      " False False  True  True False False False False False False False False\n",
      " False False False False  True False False False False  True  True False\n",
      " False False False  True False False False False  True False False False\n",
      " False  True False False False False False False False False False False\n",
      " False  True False False  True False False False False False False False\n",
      " False  True  True False False False False False False False False False\n",
      "  True False False False False False False False False False  True False\n",
      "  True  True False False False False False False False False False False\n",
      " False False False False False False False False False False False False\n",
      " False  True False False False False False False False False  True False\n",
      " False False False False False False False False False False False False\n",
      " False False False False False False False]\n"
     ]
    },
    {
     "data": {
      "text/plain": [
       "array(['HIT', 'HIT', 'CR', 'CR', 'HIT', 'CR', 'HIT', 'CR', 'MISS', 'CR',\n",
       "       'HIT', 'CR', 'CR', 'HIT', 'HIT', 'CR', 'CR', 'HIT', 'CR', 'CR',\n",
       "       'MISS', 'HIT', 'CR', 'HIT', 'CR', 'HIT', 'HIT', 'CR', 'CR', 'MISS',\n",
       "       'FA', 'HIT', 'CR', 'HIT', 'FA', 'HIT', 'CR', 'CR', 'HIT', 'CR',\n",
       "       'HIT', 'CR', 'HIT', 'HIT', 'CR', 'FA', 'MISS', 'CR', 'HIT', 'HIT',\n",
       "       'HIT', 'CR', 'CR', 'HIT', 'CR', 'HIT', 'HIT', 'CR', 'CR', 'CR',\n",
       "       'CR', 'HIT', 'CR', 'CR', 'CR', 'MISS', 'HIT', 'HIT', 'CR', 'FA',\n",
       "       'MISS', 'CR', 'HIT', 'FA', 'CR', 'MISS', 'MISS', 'HIT', 'CR', 'CR',\n",
       "       'CR', 'HIT', 'HIT', 'HIT', 'CR', 'HIT', 'CR', 'CR', 'HIT', 'HIT',\n",
       "       'FA', 'CR', 'FA', 'HIT', 'HIT', 'HIT', 'CR', 'CR', 'HIT', 'CR',\n",
       "       'HIT', 'CR', 'CR', 'CR', 'HIT', 'HIT', 'HIT', 'CR', 'CR', 'HIT',\n",
       "       'CR', 'HIT', 'CR', 'CR', 'HIT', 'HIT', 'CR', 'CR', 'CR', 'HIT',\n",
       "       'HIT', 'CR', 'MISS', 'CR', 'HIT', 'CR', 'CR', 'HIT', 'HIT', 'HIT',\n",
       "       'HIT', 'HIT', 'CR', 'CR', 'HIT', 'MISS', 'CR', 'HIT', 'HIT', 'CR',\n",
       "       'CR', 'CR', 'HIT', 'MISS', 'CR', 'CR', 'CR', 'HIT', 'FA', 'FA',\n",
       "       'HIT', 'HIT', 'HIT', 'FA', 'CR', 'CR', 'MISS', 'MISS', 'CR', 'HIT',\n",
       "       'HIT', 'CR', 'HIT', 'CR', 'CR', 'FA', 'HIT', 'HIT', 'FA', 'CR',\n",
       "       'MISS', 'CR', 'HIT', 'CR', 'CR', 'HIT', 'HIT', 'CR', 'MISS',\n",
       "       'MISS', 'HIT', 'CR', 'CR', 'CR', 'HIT', 'NoLabel', 'HIT', 'CR',\n",
       "       'HIT', 'CR', 'CR', 'CR', 'MISS', 'MISS', 'MISS', 'CR', 'CR', 'CR',\n",
       "       'CR', 'CR', 'HIT', 'MISS', 'CR', 'CR', 'MISS', 'MISS', 'CR',\n",
       "       'MISS', 'HIT', 'CR', 'HIT', 'CR', 'CR', 'CR', 'CR', 'HIT', 'MISS',\n",
       "       'HIT', 'HIT', 'CR', 'CR', 'MISS', 'CR', 'HIT', 'CR', 'CR', 'MISS',\n",
       "       'MISS', 'CR', 'MISS', 'CR', 'FA', 'CR', 'MISS', 'MISS', 'CR', 'CR',\n",
       "       'HIT', 'CR', 'NoLabel', 'HIT', 'HIT', 'HIT', 'CR', 'CR', 'CR',\n",
       "       'MISS', 'HIT', 'HIT', 'FA', 'CR', 'FA', 'CR', 'HIT', 'HIT', 'CR',\n",
       "       'CR', 'HIT', 'CR', 'CR', 'MISS', 'HIT', 'CR', 'HIT', 'CR', 'CR',\n",
       "       'HIT', 'HIT', 'MISS', 'HIT', 'CR', 'MISS', 'CR', 'CR', 'CR',\n",
       "       'MISS', 'CR', 'NoLabel', 'CR', 'HIT', 'HIT', 'CR', 'HIT', 'CR',\n",
       "       'MISS', 'CR', 'MISS', 'CR', 'MISS', 'CR', 'MISS', 'MISS', 'CR',\n",
       "       'CR', 'CR', 'CR', 'CR', 'HIT', 'HIT', 'MISS', 'MISS', 'CR', 'HIT',\n",
       "       'HIT', 'CR', 'CR', 'MISS', 'MISS', 'NoLabel', 'CR', 'CR', 'CR',\n",
       "       'CR', 'MISS', 'CR', 'MISS', 'MISS', 'CR', 'NoLabel', 'CR', 'MISS',\n",
       "       'CR', 'MISS', 'HIT', 'FA', 'MISS', 'CR', 'HIT', 'CR', 'MISS',\n",
       "       'MISS', 'MISS', 'CR', 'CR', 'CR', 'HIT', 'MISS', 'HIT', 'HIT',\n",
       "       'HIT', 'HIT', 'CR', 'CR', 'HIT', 'CR', 'HIT', 'CR', 'HIT', 'CR',\n",
       "       'HIT', 'FA', 'HIT', 'HIT', 'CR', 'CR', 'CR', 'MISS', 'MISS',\n",
       "       'MISS', 'CR', 'MISS', 'MISS', 'HIT', 'CR', 'CR', 'NoLabel', 'MISS',\n",
       "       'CR', 'HIT', 'CR', 'CR', 'MISS', 'MISS', 'HIT', 'CR', 'CR', 'CR',\n",
       "       'HIT', 'MISS', 'CR', 'HIT', 'CR', 'MISS', 'MISS', 'MISS', 'CR',\n",
       "       'CR', 'CR', 'CR', 'HIT', 'HIT', 'HIT', 'MISS', 'MISS', 'CR', 'CR',\n",
       "       'CR', 'CR', 'MISS', 'MISS', 'CR', 'CR', 'CR', 'HIT', 'CR', 'MISS',\n",
       "       'MISS', 'CR', 'CR', 'MISS', 'MISS', 'MISS', 'CR', 'HIT', 'CR',\n",
       "       'CR', 'HIT', 'HIT', 'CR', 'CR', 'MISS', 'CR', 'MISS', 'MISS',\n",
       "       'HIT', 'CR', 'CR', 'CR', 'CR', 'HIT', 'MISS', 'MISS', 'CR', 'HIT',\n",
       "       'MISS', 'CR', 'CR', 'MISS', 'MISS', 'CR', 'MISS', 'CR', 'CR', 'CR',\n",
       "       'CR', 'MISS', 'HIT', 'HIT', 'MISS', 'MISS', 'CR', 'CR', 'CR',\n",
       "       'MISS', 'CR', 'CR', 'MISS', 'CR', 'MISS', 'MISS', 'HIT', 'MISS',\n",
       "       'CR', 'CR', 'MISS', 'HIT', 'HIT', 'CR', 'CR', 'MISS', 'CR', 'HIT',\n",
       "       'CR', 'MISS', 'CR', 'CR', 'HIT', 'CR', 'MISS', 'MISS', 'CR', 'HIT',\n",
       "       'MISS', 'CR', 'MISS', 'CR', 'CR', 'CR', 'CR', 'MISS', 'MISS', 'CR',\n",
       "       'CR', 'HIT', 'CR', 'CR', 'HIT', 'CR', 'MISS', 'MISS', 'CR', 'CR',\n",
       "       'MISS', 'NoLabel', 'CR', 'HIT', 'HIT', 'CR', 'MISS', 'CR', 'CR',\n",
       "       'MISS', 'MISS', 'CR', 'CR', 'CR', 'HIT', 'MISS', 'MISS', 'MISS',\n",
       "       'CR', 'CR', 'CR', 'MISS', 'CR', 'MISS', 'HIT', 'CR', 'HIT', 'HIT',\n",
       "       'CR', 'MISS', 'CR', 'CR', 'MISS', 'CR', 'MISS', 'MISS', 'CR', 'CR',\n",
       "       'MISS', 'MISS', 'MISS', 'CR', 'MISS', 'MISS', 'MISS', 'CR', 'CR',\n",
       "       'CR', 'MISS', 'MISS', 'MISS', 'HIT', 'CR', 'CR', 'CR', 'NoLabel',\n",
       "       'MISS', 'MISS', 'CR', 'MISS', 'HIT', 'CR', 'CR', 'NoLabel', 'CR',\n",
       "       'CR', 'MISS', 'MISS', 'MISS', 'MISS', 'CR', 'MISS', 'CR', 'CR',\n",
       "       'CR', 'MISS', 'MISS', 'MISS', 'CR', 'CR', 'CR'], dtype=object)"
      ]
     },
     "execution_count": 76,
     "metadata": {},
     "output_type": "execute_result"
    }
   ],
   "source": [
    "print(hit.sum())\n",
    "print(miss.sum())\n",
    "print(cr.sum())\n",
    "print(fa.sum())\n",
    "print(response_labels.size)"
   ]
  },
  {
   "cell_type": "code",
   "execution_count": 63,
   "id": "e87b94f2",
   "metadata": {},
   "outputs": [
    {
     "name": "stdout",
     "output_type": "stream",
     "text": [
      "[[ 165.81881573  163.1152512   163.29824412 ... 1095.61013355\n",
      "  1062.94662208 1036.20043938]\n",
      " [  63.54225859   69.11485662   70.06473559 ... 1280.42382492\n",
      "  1322.21517446 1367.21601979]\n",
      " [  48.76324753   47.71333557   47.57579206 ...  221.26881635\n",
      "   217.35100238  222.09739779]\n",
      " ...\n",
      " [ 296.02685719  295.7401318   289.54849353 ...   94.44972364\n",
      "    99.18861739  109.31491614]\n",
      " [ 224.14464319  213.74054738  210.70358747 ...  160.97787938\n",
      "   154.4583203   156.90013156]\n",
      " [ 525.43188921  517.61611846  516.09763218 ...  503.98008819\n",
      "   505.85341787  509.66784086]]\n"
     ]
    },
    {
     "data": {
      "text/plain": [
       "array([165.81881573, 163.1152512 , 163.29824412, ..., 503.98008819,\n",
       "       505.85341787, 509.66784086])"
      ]
     },
     "execution_count": 63,
     "metadata": {},
     "output_type": "execute_result"
    }
   ],
   "source": [
    "trace = np.array(data[\"JawTrace\"])\n",
    "print(trace)\n",
    "trace.shape\n",
    "full_trace = trace.flatten()\n",
    "full_trace"
   ]
  },
  {
   "cell_type": "markdown",
   "id": "26db2f5a",
   "metadata": {},
   "source": [
    "## CSV\n"
   ]
  },
  {
   "cell_type": "code",
   "execution_count": 178,
   "id": "702fda3d",
   "metadata": {},
   "outputs": [],
   "source": [
    "\n",
    "csv_data = pd.read_csv(\"data/Subject_Session_Selection.csv\", sep=\";\")\n",
    "csv_data.columns = csv_data.columns.str.strip() \n",
    "csv_data.columns\n",
    "\n",
    "mouse = ''.join(chr(c) for c in data['mouse'].flatten())\n",
    "date = ''.join(chr(c) for c in data['date'].flatten())\n",
    "session_name = f\"{mouse}_{date}\"  \n",
    "\n",
    "try:\n",
    "    subject_info = csv_data[csv_data['Session'].astype(str).str.strip() == session_name].iloc[0]\n",
    "except IndexError:\n",
    "    raise ValueError(f\"Session {session_name} not found in the CSV file.\")"
   ]
  },
  {
   "cell_type": "markdown",
   "id": "e142f12d",
   "metadata": {},
   "source": [
    " # TOTAL *******"
   ]
  },
  {
   "cell_type": "code",
   "execution_count": 86,
   "id": "851bb2e5",
   "metadata": {},
   "outputs": [
    {
     "name": "stdout",
     "output_type": "stream",
     "text": [
      "Tous les fichiers ont été supprimés du dossier data/nwb_output.\n",
      "**************************************************************************\n",
      "-_-_-_-_-_-_-_-_-_-_-_-_-_-_- NWB conversion _-_-_-_-_-_-_-_-_-_-_-_-_-_-_\n",
      " \n",
      "📃 Creating config file for NWB conversion :\n",
      "   - data/AO039_20190626_config.yaml\n",
      " \n",
      "📑 Created NWB file\n",
      "     o 🐭 Subject metadata & Session metadata\n",
      "     o 💬 Add behavior container\n",
      " \n",
      "🔎 Validating NWB file before saving...\n",
      "     o ✅ File is valid, no errors detected.\n",
      " \n",
      "💾 Saving NWB file\n",
      "     o 📂 NWB file saved at:\n",
      "         - data/nwb_output/AO039_20190626_160524_2025_07_10.17-54-00.nwb\n",
      "**************************************************************************\n"
     ]
    }
   ],
   "source": [
    "# Supprimer tous les fichiers dans le dossier NWB output\n",
    "for file in os.listdir(\"data/nwb_output\"):\n",
    "    file_path = os.path.join(\"data/nwb_output\", file)\n",
    "    if os.path.isfile(file_path):\n",
    "        os.remove(file_path)\n",
    "print(\"Tous les fichiers ont été supprimés du dossier data/nwb_output.\")\n",
    "\n",
    "filename = \"data/AO039_20190626.mat\"  # Chemin vers le fichier .mat\n",
    "importlib.reload(LO_NWB_conv)\n",
    "nwb_path = LO_NWB_conv.convert_data_to_nwb_an(mat_file=filename, output_folder=\"data/nwb_output\", output_folder_config=\"data\")"
   ]
  },
  {
   "cell_type": "markdown",
   "id": "8fed998e",
   "metadata": {},
   "source": [
    "# Visualization"
   ]
  },
  {
   "cell_type": "code",
   "execution_count": 4,
   "id": "74105b47",
   "metadata": {},
   "outputs": [],
   "source": [
    "from pynwb import NWBHDF5IO\n",
    "\n",
    "io = NWBHDF5IO(nwb_path, 'r')\n",
    "nwbfile = io.read()"
   ]
  },
  {
   "cell_type": "code",
   "execution_count": 22,
   "id": "b5818805",
   "metadata": {},
   "outputs": [],
   "source": [
    "ts = nwbfile.processing['behavior']['BehavioralEvents']['TrialOnsets']"
   ]
  },
  {
   "cell_type": "code",
   "execution_count": 26,
   "id": "ffe28d00",
   "metadata": {},
   "outputs": [
    {
     "data": {
      "text/plain": [
       "array([  15.30276667,   22.1426    ,   27.7827    ,   34.59283333,\n",
       "         46.34316667,   53.99356667,   64.0133    ,   72.27296667,\n",
       "         79.60266667,   90.32283333,   98.75276667,  104.11266667,\n",
       "        113.873     ,  125.05736667,  131.30276667,  138.0229    ,\n",
       "        148.56293333,  158.72296667,  164.95733333,  180.13293333,\n",
       "        189.91306667,  198.27303333,  208.9927    ,  217.94303333,\n",
       "        224.78276667,  233.273     ,  238.90293333,  245.35276667,\n",
       "        252.53316667,  263.1129    ,  272.73283333,  279.78283333,\n",
       "        286.85283333,  294.753     ,  302.53293333,  309.1329    ,\n",
       "        317.9431    ,  326.3229    ,  337.4327    ,  345.08273333,\n",
       "        352.87253333,  359.49276667,  367.0427    ,  373.4726    ,\n",
       "        379.14286667,  389.14283333,  397.17263333,  407.2327    ,\n",
       "        418.95266667,  425.83286667,  434.06266667,  445.2028    ,\n",
       "        457.6225    ,  464.7726    ,  471.41253333,  482.59246667,\n",
       "        492.4526    ,  502.02266667,  515.68266667,  522.5726    ,\n",
       "        534.66253333,  544.70246667,  552.56246667,  566.35256667,\n",
       "        574.43243333,  585.92263333,  597.0925    ,  605.29243333,\n",
       "        612.0125    ,  618.8325    ,  627.5724    ,  635.88253333,\n",
       "        648.68226667,  660.14283333,  669.03263333,  678.98256667,\n",
       "        691.08253333,  703.2825    ,  707.74233333,  720.34236667,\n",
       "        732.7127    ,  742.70266667,  748.2826    ,  759.43246667,\n",
       "        764.4125    ,  772.48673333,  780.5225    ,  787.1527    ,\n",
       "        794.3727    ,  801.38263333,  806.3028    ,  813.1626    ,\n",
       "        822.4224    ,  831.31223333,  840.25243333,  849.65236667,\n",
       "        858.53256667,  868.68283333,  885.887     ,  897.1625    ,\n",
       "        909.3225    ,  920.09223333,  928.2924    ,  941.1926    ,\n",
       "        948.97266667,  961.01256667,  971.6028    ,  980.38713333,\n",
       "        991.11286667, 1003.8426    , 1015.03696667, 1027.88266667,\n",
       "       1040.4473    , 1047.5329    , 1056.61713333, 1065.13266667,\n",
       "       1072.12263333, 1084.50293333, 1092.46283333, 1101.3126    ,\n",
       "       1112.39283333, 1123.12273333, 1133.49296667, 1140.94276667,\n",
       "       1149.91263333, 1154.7327    , 1162.39283333, 1173.7226    ,\n",
       "       1183.61253333, 1192.25256667, 1200.05286667, 1210.73263333,\n",
       "       1216.51273333, 1226.58273333, 1237.43276667, 1242.33273333,\n",
       "       1255.0126    , 1269.5025    , 1279.1226    , 1289.7826    ,\n",
       "       1298.1926    , 1308.1726    , 1315.89283333, 1326.53273333,\n",
       "       1336.28273333, 1344.3527    , 1352.5071    , 1359.453     ,\n",
       "       1367.39286667, 1373.32283333, 1379.55286667, 1385.43266667,\n",
       "       1392.2326    , 1405.66263333, 1414.78273333, 1422.9826    ,\n",
       "       1436.43263333, 1446.08266667, 1457.07266667, 1466.1727    ,\n",
       "       1474.3727    , 1479.93283333, 1491.82243333, 1499.22256667,\n",
       "       1506.46233333, 1513.25233333, 1522.48253333, 1528.08256667,\n",
       "       1539.11233333, 1546.19243333, 1556.71243333, 1563.90233333,\n",
       "       1574.34233333, 1584.96233333, 1594.74233333, 1603.82256667,\n",
       "       1614.5623    , 1621.2326    , 1628.08243333, 1636.26226667,\n",
       "       1643.75226667, 1648.4723    , 1655.90223333, 1664.26356667,\n",
       "       1670.71336667, 1679.54236667, 1690.23236667, 1699.24223333,\n",
       "       1706.19213333, 1711.17316667, 1720.93213333, 1731.47243333,\n",
       "       1740.36216667, 1755.72223333, 1767.53236667, 1779.1421    ,\n",
       "       1790.63226667, 1802.83203333, 1810.15213333, 1821.03236667,\n",
       "       1829.8372    , 1836.7424    , 1844.9825    , 1853.64243333,\n",
       "       1860.63303333, 1871.40243333, 1881.35326667, 1891.21213333,\n",
       "       1898.03256667, 1905.3226    , 1914.7723    , 1919.7171    ,\n",
       "       1927.6425    , 1937.6624    , 1944.93346667, 1955.8931    ,\n",
       "       1963.7324    , 1973.23246667, 1981.54243333, 1985.8669    ,\n",
       "       1993.49256667, 2001.373     , 2012.08253333, 2022.0326    ,\n",
       "       2034.24236667, 2042.4624    , 2051.35233333, 2060.5525    ,\n",
       "       2070.67306667, 2077.78243333, 2084.8226    , 2094.78256667,\n",
       "       2101.01236667, 2108.95246667, 2116.5224    , 2122.9423    ,\n",
       "       2131.2729    , 2142.1224    , 2150.43233333, 2156.85236667,\n",
       "       2164.30326667, 2173.16233333, 2181.0123    , 2189.91266667,\n",
       "       2201.15266667, 2210.35713333, 2219.99226667, 2229.09253333,\n",
       "       2236.44256667, 2242.50253333, 2252.2824    , 2259.6524    ,\n",
       "       2265.0424    , 2274.6424    , 2283.3527    , 2290.04253333,\n",
       "       2298.06266667, 2307.5227    , 2316.26296667, 2324.98253333,\n",
       "       2331.89346667, 2339.8424    , 2346.7726    , 2356.97243333,\n",
       "       2365.0123    , 2372.9229    , 2382.4924    , 2389.28736667,\n",
       "       2397.5726    , 2407.51316667, 2415.82253333, 2422.1837    ,\n",
       "       2431.41663333, 2437.59263333, 2447.20263333, 2453.8628    ,\n",
       "       2462.1925    , 2472.99536667, 2483.50266667, 2490.8624    ,\n",
       "       2496.57296667, 2504.13266667, 2513.1932    , 2520.0327    ,\n",
       "       2530.76253333, 2537.7226    , 2543.94256667, 2555.67256667,\n",
       "       2562.9665    , 2570.643     , 2579.4926    , 2585.74253333,\n",
       "       2593.51243333, 2603.79256667, 2613.3725    , 2621.5825    ,\n",
       "       2632.1724    , 2643.01643333, 2651.98706667, 2658.2875    ,\n",
       "       2667.4524    , 2680.8524    , 2688.57236667, 2697.46243333,\n",
       "       2704.86316667, 2714.09266667, 2723.63256667, 2730.81276667,\n",
       "       2740.95256667, 2751.0629    , 2757.22273333, 2766.25273333,\n",
       "       2772.433     , 2782.06303333, 2792.50276667, 2803.0629    ,\n",
       "       2810.46286667, 2819.0929    , 2827.02266667, 2837.7927    ,\n",
       "       2846.60323333, 2855.59293333, 2863.51266667, 2874.254     ,\n",
       "       2879.05293333, 2887.6727    , 2898.4428    , 2906.47343333,\n",
       "       2915.455     , 2923.343     , 2932.3039    , 2941.2132    ,\n",
       "       2951.98283333, 2961.5272    , 2970.80296667, 2978.383     ,\n",
       "       2986.81333333, 2993.70316667, 2999.23296667, 3006.06496667,\n",
       "       3011.4929    , 3017.6646    , 3025.71296667, 3031.98316667,\n",
       "       3039.12293333, 3046.1329    , 3051.6548    , 3060.6929    ,\n",
       "       3067.8831    , 3074.07293333, 3080.3334    , 3087.96343333,\n",
       "       3094.68466667, 3100.51286667, 3108.56353333, 3116.163     ,\n",
       "       3124.55296667, 3133.42296667, 3141.98316667, 3150.98296667,\n",
       "       3159.36666667, 3166.42296667, 3173.82313333, 3178.9939    ,\n",
       "       3187.05296667, 3194.44296667, 3202.25316667, 3209.88336667,\n",
       "       3216.1929    , 3221.9928    , 3230.5631    , 3238.75393333,\n",
       "       3245.693     , 3254.09306667, 3259.09753333, 3266.51366667,\n",
       "       3273.50293333, 3281.51336667, 3287.91313333, 3294.88306667,\n",
       "       3301.77296667, 3308.73476667, 3315.99316667, 3325.06303333,\n",
       "       3331.2932    , 3337.8729    , 3346.73303333, 3356.45336667,\n",
       "       3364.28363333, 3370.4245    , 3377.06373333, 3382.99816667,\n",
       "       3389.273     , 3397.14436667, 3405.06293333, 3412.50286667,\n",
       "       3420.49353333, 3427.35283333, 3435.173     , 3442.78306667,\n",
       "       3449.09293333, 3455.4473    , 3463.37323333, 3469.90296667,\n",
       "       3475.188     , 3484.0631    , 3492.93313333, 3501.2029    ,\n",
       "       3510.07316667, 3516.61303333, 3524.6528    , 3531.6528    ,\n",
       "       3538.4132    , 3547.37336667, 3552.91333333, 3560.32316667,\n",
       "       3568.4929    , 3575.6528    , 3581.90366667, 3590.15283333,\n",
       "       3597.48306667, 3605.92406667, 3613.72373333, 3622.60783333,\n",
       "       3629.23296667, 3633.83316667, 3642.00316667, 3650.8831    ,\n",
       "       3659.3831    , 3667.1033    , 3673.4534    , 3682.00353333,\n",
       "       3689.44393333, 3698.3132    , 3704.0233    , 3710.9537    ,\n",
       "       3717.773     , 3726.70403333, 3734.1531    , 3742.9546    ,\n",
       "       3751.13306667, 3758.81316667, 3765.64316667, 3772.12776667,\n",
       "       3778.5732    , 3784.75293333, 3791.01386667, 3798.1673    ,\n",
       "       3802.74283333, 3810.7739    , 3818.093     , 3824.29286667,\n",
       "       3831.7428    , 3838.183     , 3847.15286667, 3854.8738    ,\n",
       "       3862.3527    , 3871.3231    , 3878.51283333, 3886.4828    ,\n",
       "       3895.48356667, 3902.46273333, 3908.74276667, 3917.17293333,\n",
       "       3925.3828    , 3934.34283333, 3941.12306667, 3946.75303333,\n",
       "       3955.50316667, 3962.59716667, 3969.99263333, 3979.47286667,\n",
       "       3985.74266667, 3994.30713333, 4002.6425    , 4010.49266667,\n",
       "       4019.5425    , 4024.33826667, 4032.6827    , 4039.34316667,\n",
       "       4047.01726667, 4054.69276667, 4061.44303333, 4068.7927    ,\n",
       "       4076.2728    , 4082.83273333, 4090.52266667, 4097.39293333,\n",
       "       4105.65283333, 4113.11296667, 4122.00293333, 4129.35286667,\n",
       "       4137.91293333, 4144.8228    , 4150.87276667, 4157.22263333,\n",
       "       4165.64273333, 4172.32366667, 4179.31753333, 4187.05346667,\n",
       "       4193.87276667, 4201.24403333, 4207.92403333, 4216.44326667,\n",
       "       4223.82306667, 4231.20296667, 4238.403     , 4245.18263333,\n",
       "       4253.7128    , 4260.8628    , 4269.44296667, 4275.56276667,\n",
       "       4282.71286667, 4290.2233    , 4296.68306667, 4305.75426667,\n",
       "       4312.85306667, 4318.54716667, 4326.5034    , 4333.4731    ,\n",
       "       4342.03303333, 4349.8735    , 4356.41376667, 4364.77303333,\n",
       "       4373.34366667, 4380.7632    , 4388.74326667, 4393.57316667,\n",
       "       4400.85343333, 4407.61323333, 4412.71316667, 4418.9933    ,\n",
       "       4427.8733    , 4434.9232    , 4442.48313333, 4450.66306667,\n",
       "       4457.25326667, 4464.79356667, 4472.1035    , 4480.0134    ,\n",
       "       4487.54346667, 4494.3735    , 4501.4433    , 4509.71333333,\n",
       "       4517.24346667, 4526.1933    , 4532.62353333, 4539.19343333,\n",
       "       4547.57383333, 4555.9934    , 4564.91333333, 4572.0634    ,\n",
       "       4579.5235    , 4588.23356667, 4594.11333333, 4602.72353333,\n",
       "       4611.51363333, 4620.56363333, 4629.57443333, 4638.3435    ,\n",
       "       4645.18343333, 4651.62346667, 4659.93346667, 4667.1236    ,\n",
       "       4675.4934    , 4682.1034    , 4689.30343333, 4697.17886667,\n",
       "       4703.38333333, 4709.90326667, 4717.81306667, 4725.76316667,\n",
       "       4734.6135    , 4742.7476    , 4750.09793333, 4757.02956667,\n",
       "       4765.8834    , 4772.6931    , 4779.2331    , 4786.34366667,\n",
       "       4793.42306667, 4801.2431    , 4808.34323333])"
      ]
     },
     "execution_count": 26,
     "metadata": {},
     "output_type": "execute_result"
    }
   ],
   "source": [
    "ts.timestamps[:]"
   ]
  },
  {
   "cell_type": "code",
   "execution_count": null,
   "id": "07698c00",
   "metadata": {},
   "outputs": [],
   "source": []
  }
 ],
 "metadata": {
  "kernelspec": {
   "display_name": "nwb_env",
   "language": "python",
   "name": "python3"
  },
  "language_info": {
   "codemirror_mode": {
    "name": "ipython",
    "version": 3
   },
   "file_extension": ".py",
   "mimetype": "text/x-python",
   "name": "python",
   "nbconvert_exporter": "python",
   "pygments_lexer": "ipython3",
   "version": "3.9.23"
  }
 },
 "nbformat": 4,
 "nbformat_minor": 5
}
