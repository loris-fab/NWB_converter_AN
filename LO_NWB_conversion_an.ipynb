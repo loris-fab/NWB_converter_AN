{
 "cells": [
  {
   "cell_type": "markdown",
   "id": "71ac0b88",
   "metadata": {},
   "source": [
    "# Preprocessing .mat for NWB"
   ]
  },
  {
   "cell_type": "code",
   "execution_count": 1,
   "id": "eee9f332",
   "metadata": {},
   "outputs": [],
   "source": [
    "import numpy as np\n",
    "import h5py\n",
    "import os\n",
    "import yaml\n",
    "import pandas as pd\n",
    "from datetime import datetime\n",
    "import shutil\n",
    "import importlib\n",
    "import numpy as np\n",
    "import pandas as pd\n",
    "import convert_to_nwb_for_AO\n",
    "import scipy.io\n",
    "from tqdm import tqdm\n",
    "import platform\n",
    "from IPython.display import clear_output\n",
    "from contextlib import redirect_stdout\n"
   ]
  },
  {
   "cell_type": "markdown",
   "id": "3b848cdc",
   "metadata": {},
   "source": [
    "# Load data "
   ]
  },
  {
   "cell_type": "markdown",
   "id": "0785ecbc",
   "metadata": {},
   "source": [
    "## .mat files"
   ]
  },
  {
   "cell_type": "code",
   "execution_count": null,
   "id": "63980585",
   "metadata": {},
   "outputs": [],
   "source": [
    "WRAO039 = \"data/mouse_anastasia/WR/AO039_20190626.mat\"  \n",
    "WRAO027 = \"data/mouse_anastasia/WR/AO027_20181101.mat\"\n",
    "WnonRAO084 = \"data/mouse_anastasia/WnonR/AO084_20210507.mat\"\n",
    "WnonRAO086 = \"data/mouse_anastasia/WnonR/AO086_20210617.mat\""
   ]
  },
  {
   "cell_type": "markdown",
   "id": "13ca4ff7",
   "metadata": {},
   "source": [
    "### Rewarded"
   ]
  },
  {
   "cell_type": "code",
   "execution_count": null,
   "id": "d5df6c09",
   "metadata": {},
   "outputs": [],
   "source": [
    "\n",
    "with h5py.File(WRAO039, 'r') as f:\n",
    "    data_group = f['Data']\n",
    "    data_ref = f[\"#refs#\"]\n",
    "    #print(\"Références trouvées :\")\n",
    "    #for key in data_ref.keys():\n",
    "    #    print(f\" - {key} → shape: {data_ref[key].shape}, dtype: {data_ref[key].dtype}\")\n",
    "    print(\"Contenu de 'Data' :\")\n",
    "    for key in data_group.keys():\n",
    "        print(f\" - {key} → shape: {data_group[key].shape}, dtype: {data_group[key].dtype}\")\n"
   ]
  },
  {
   "cell_type": "markdown",
   "id": "fcae90ed",
   "metadata": {},
   "source": [
    "### Non-rewarded"
   ]
  },
  {
   "cell_type": "code",
   "execution_count": null,
   "id": "ff895205",
   "metadata": {},
   "outputs": [],
   "source": [
    "\n",
    "with h5py.File(WnonRAO086, 'r') as f:\n",
    "    data_group = f['Data']\n",
    "    data_ref = f[\"#refs#\"]\n",
    "    #print(\"Références trouvées :\")\n",
    "    #for key in data_ref.keys():\n",
    "    #    print(f\" - {key} → shape: {data_ref[key].shape}, dtype: {data_ref[key].dtype}\")\n",
    "    print(\"Contenu de 'Data' :\")\n",
    "    for key in data_group.keys():\n",
    "        print(f\" - {key} → shape: {data_group[key].shape}, dtype: {data_group[key].dtype}\")"
   ]
  },
  {
   "cell_type": "markdown",
   "id": "9558e65d",
   "metadata": {},
   "source": [
    "### Comparison\n"
   ]
  },
  {
   "cell_type": "code",
   "execution_count": null,
   "id": "d591fa06",
   "metadata": {},
   "outputs": [],
   "source": [
    "with h5py.File(WRAO039, 'r') as f:\n",
    "\tdata_group = f['Data'] if 'Data' in f else f\n",
    "\tWRAO039 = {key: data_group[key][()] for key in data_group.keys()}\n",
    "\n",
    "with h5py.File(WRAO027, 'r') as f:\n",
    "\tdata_group = f['Data'] if 'Data' in f else f\n",
    "\tWRAO027 = {key: data_group[key][()] for key in data_group.keys()}\n",
    "\n",
    "with h5py.File(WnonRAO084, 'r') as f:\n",
    "\tdata_group = f['Data'] if 'Data' in f else f\n",
    "\tWnonRAO084 = {key: data_group[key][()] for key in data_group.keys()}\n",
    "\n",
    "with h5py.File(WnonRAO086, 'r') as f:\n",
    "\tdata_group = f['Data'] if 'Data' in f else f\n",
    "\tWnonRAO086 = {key: data_group[key][()] for key in data_group.keys()}"
   ]
  },
  {
   "cell_type": "code",
   "execution_count": null,
   "id": "4cfff0ba",
   "metadata": {},
   "outputs": [],
   "source": [
    "# Comparaison WRAO039 et WRAO027\n",
    "keys_WRAO039 = set(WRAO039.keys())\n",
    "keys_WRAO027 = set(WRAO027.keys())\n",
    "\n",
    "same_keys = keys_WRAO039 == keys_WRAO027\n",
    "print(\"Les deux dictionnaires ont les mêmes clés :\", same_keys)\n",
    "\n",
    "if not same_keys:\n",
    "    print(\"Clés uniquement dans WRAO039 :\", keys_WRAO039 - keys_WRAO027)\n",
    "    print(\"Clés uniquement dans WRAO027 :\", keys_WRAO027 - keys_WRAO039)"
   ]
  },
  {
   "cell_type": "code",
   "execution_count": null,
   "id": "3ae62231",
   "metadata": {},
   "outputs": [],
   "source": [
    "# Comparaison WnonRAO084 et WnonRAO086\n",
    "keys_WnonRAO084 = set(WnonRAO084.keys())\n",
    "keys_WnonRAO086 = set(WnonRAO086.keys())\n",
    "\n",
    "same_keys = keys_WnonRAO084 == keys_WnonRAO086\n",
    "print(\"Les deux dictionnaires ont les mêmes clés :\", same_keys)\n",
    "\n",
    "if not same_keys:\n",
    "    print(\"Clés uniquement dans WnonRAO084 :\", keys_WnonRAO084 - keys_WnonRAO086)\n",
    "    print(\"Clés uniquement dans WnonRAO086 :\", keys_WnonRAO086 - keys_WnonRAO084)"
   ]
  },
  {
   "cell_type": "code",
   "execution_count": null,
   "id": "7ee44381",
   "metadata": {},
   "outputs": [],
   "source": [
    "# Comaraison WR et WnonR\n",
    "keys_WR = set(WRAO039.keys())\n",
    "keys_WnonR = set(WnonRAO084.keys())\n",
    "same_keys = keys_WR == keys_WnonR\n",
    "print(\"Les deux dictionnaires ont les mêmes clés :\", same_keys)\n",
    "\n",
    "if not same_keys:\n",
    "    print(\"Clés uniquement dans WR :\", keys_WR - keys_WnonR)\n",
    "    print(\"Clés uniquement dans WnonR :\", keys_WnonR - keys_WR)\n",
    "\n",
    "    identical_keys = keys_WR & keys_WnonR\n",
    "    print(\"Clés présentes dans les deux dictionnaires :\", identical_keys)\n"
   ]
  },
  {
   "cell_type": "markdown",
   "id": "f8476a63",
   "metadata": {},
   "source": [
    "## Try anything .mat"
   ]
  },
  {
   "cell_type": "code",
   "execution_count": null,
   "id": "93fb2b49",
   "metadata": {},
   "outputs": [],
   "source": [
    "WRAO039 = \"data/mouse_anastasia/WR/AO039_20190626.mat\"  \n",
    "WRAO027 = \"data/mouse_anastasia/WR/AO027_20181101.mat\"\n",
    "WnonRAO084 = \"data/mouse_anastasia/WnonR/AO084_20210507.mat\"\n",
    "WnonRAO086 = \"data/mouse_anastasia/WnonR/AO086_20210617.mat\"\n",
    "\n",
    "with h5py.File(WRAO027, 'r') as f:\n",
    "\tdata_group = f['Data'] if 'Data' in f else f\n",
    "\tdata = {key: data_group[key][()] for key in data_group.keys()}\n",
    "\t\n",
    "\t"
   ]
  },
  {
   "cell_type": "code",
   "execution_count": null,
   "id": "0ec7505a",
   "metadata": {},
   "outputs": [],
   "source": [
    "with h5py.File(WRAO027, 'r') as f:\n",
    "    data_group = f['Data'] if 'Data' in f else f\n",
    "    data = {key: data_group[key][()] for key in data_group.keys()}\n",
    "    \n",
    "print(data[\"Area\"].shape)\n",
    "print(data[\"Area\"])\n"
   ]
  },
  {
   "cell_type": "code",
   "execution_count": null,
   "id": "e72a5a9c",
   "metadata": {},
   "outputs": [],
   "source": [
    "with h5py.File(WRAO027, 'r') as f:\n",
    "    data_group = f['Data'] if 'Data' in f else f\n",
    "    lfp_refs = data_group['LFPs'][()]  # shape (3,1)\n",
    "    \n",
    "    # Accès aux vrais tableaux\n",
    "    lfp_data = [f[ref[0]][()] for ref in lfp_refs]\n",
    "    \n",
    "    for i, lfp in enumerate(lfp_data):\n",
    "        print(f\"LFP {i} shape:\", lfp.shape)\n",
    "\n"
   ]
  },
  {
   "cell_type": "markdown",
   "id": "26db2f5a",
   "metadata": {},
   "source": [
    "# CSV file\n"
   ]
  },
  {
   "cell_type": "code",
   "execution_count": null,
   "id": "702fda3d",
   "metadata": {},
   "outputs": [],
   "source": [
    "\n",
    "csv_data = pd.read_csv(\"data/Subject_Session_Selection.csv\", sep=\";\")\n",
    "csv_data.columns = csv_data.columns.str.strip() \n",
    "csv_data.columns"
   ]
  },
  {
   "cell_type": "code",
   "execution_count": null,
   "id": "8e1cf60e",
   "metadata": {},
   "outputs": [],
   "source": [
    "\n",
    "mouse = ''.join(chr(c) for c in WnonRAO084['mouse'].flatten())\n",
    "date = ''.join(chr(c) for c in WnonRAO084['date'].flatten())\n",
    "session_name = f\"{mouse}_{date}\"  \n",
    "\n",
    "try:\n",
    "    subject_info = csv_data[csv_data['Session'].astype(str).str.strip() == session_name].iloc[0]\n",
    "except IndexError:\n",
    "    raise ValueError(f\"Session {session_name} not found in the CSV file.\")\n"
   ]
  },
  {
   "cell_type": "markdown",
   "id": "e142f12d",
   "metadata": {},
   "source": [
    " # TOTAL _-_-_-_-_-_-_-_\n",
    " "
   ]
  },
  {
   "cell_type": "markdown",
   "id": "6ee7aac8",
   "metadata": {},
   "source": [
    "python convert_to_nwb_for_AO.py /Volumes/Petersen-Lab/z_LSENS/Share/Loris_Fabbro/AO/mat_files /Volumes/Petersen-Lab/z_LSENS/Share/Loris_Fabbro/AO/NWB_files"
   ]
  },
  {
   "cell_type": "markdown",
   "id": "a604535b",
   "metadata": {},
   "source": [
    "## Avec serveur"
   ]
  },
  {
   "cell_type": "code",
   "execution_count": null,
   "id": "72f9634d",
   "metadata": {},
   "outputs": [],
   "source": [
    "\n",
    "input_folder  = \"/Volumes/Petersen-Lab/z_LSENS/Share/Loris_Fabbro/AO/mat_files\"\n",
    "output_folder = \"/Volumes/Petersen-Lab/z_LSENS/Share/Loris_Fabbro/AO/NWB_files\"\n",
    "importlib.reload(convert_to_nwb_for_AO)\n",
    "convert_to_nwb_for_AO.convert_data_to_nwb_an(input_folder=input_folder, output_folder=output_folder , print_progress=False)\n"
   ]
  },
  {
   "cell_type": "markdown",
   "id": "49c19950",
   "metadata": {},
   "source": [
    "## Sans serveur"
   ]
  },
  {
   "cell_type": "code",
   "execution_count": 6,
   "id": "03448e11",
   "metadata": {},
   "outputs": [
    {
     "name": "stdout",
     "output_type": "stream",
     "text": [
      "**************************************************************************\n",
      " NWB conversion data/mouse_anastasia/WR/AO039_20190626.mat\n",
      " \n",
      "📃 Creating config file for NWB conversion :\n",
      "📑 Created NWB file :\n",
      "ephys Whisker Rewarded (WR+) mouse: The mouse was trained to lick within 1 s following a whisker stimulus (go trials) but not in the absence of the stimulus (no-go trials). High-density extracellular recordings were performed from mPFC and wS1 using Neuronexus A1x32-Poly2-10 mm-50 s-177 probes\n",
      "     o 📌 Add general metadata\n",
      "         - Subject metadata\n",
      "         - Session metadata\n",
      "         - Device metadata\n",
      "         - Extracellular electrophysiology metadata\n",
      "     o ⏸️ Add intervall container\n",
      "     o 🧠 Add units container\n",
      "     o ⚙️ Add processing container\n",
      "         - Behavior data\n",
      "         - No ephys data for AN sessions\n",
      " \n",
      "🔎 Validating NWB file before saving...\n",
      "     o ✅ File is valid, no errors detected.\n",
      " \n",
      "💾 Saving NWB file\n",
      "     o 📂 NWB file saved at:\n",
      "         - data/AO039_20190626_160524.nwb\n",
      "**************************************************************************\n"
     ]
    }
   ],
   "source": [
    "output_folder_local = \"data\"\n",
    "filename = \"data/mouse_anastasia/WR/AO039_20190626.mat\" # Chemin vers le fichier .mat\n",
    "importlib.reload(convert_to_nwb_for_AO)\n",
    "convert_to_nwb_for_AO.convert_data_to_nwb_an_mat(mat_file=filename, output_folder=output_folder_local)"
   ]
  },
  {
   "cell_type": "markdown",
   "id": "72fef109",
   "metadata": {},
   "source": [
    "# Accessibilité "
   ]
  },
  {
   "cell_type": "code",
   "execution_count": null,
   "id": "1b897cdb",
   "metadata": {},
   "outputs": [],
   "source": [
    "import h5py\n",
    "from pynwb import NWBHDF5IO\n",
    "import matplotlib.pyplot as plt\n",
    "import numpy as np\n",
    "\n",
    "# Ouvre le fichier NWB\n",
    "nwb_file = \"data/AO084_20210507_174652.nwb\"\n",
    "io = NWBHDF5IO(nwb_file, mode='r')\n",
    "nwb = io.read()\n",
    "stim_times = nwb.processing['behavior'].data_interfaces['BehavioralEvents'].time_series[\"StimFlags\"].timestamps[:]\n",
    "stim_data = nwb.processing['behavior'].data_interfaces['BehavioralEvents'].time_series[\"StimFlags\"].data[:]\n"
   ]
  },
  {
   "cell_type": "code",
   "execution_count": null,
   "id": "a62c7c32",
   "metadata": {},
   "outputs": [],
   "source": [
    "print(stim_times.shape)\n",
    "print(stim_data.shape)\n"
   ]
  },
  {
   "cell_type": "code",
   "execution_count": null,
   "id": "a111cec0",
   "metadata": {},
   "outputs": [],
   "source": [
    "behavior_events = nwb.processing['behavior'].data_interfaces['BehavioralEvents']\n",
    "print(\"Contenu de BehavioralEvents :\", list(behavior_events.fields.keys()))"
   ]
  },
  {
   "cell_type": "code",
   "execution_count": null,
   "id": "fb3971d0",
   "metadata": {},
   "outputs": [],
   "source": [
    "# Accède au conteneur interne\n",
    "event_series = nwb.processing['behavior'].data_interfaces['BehavioralEvents'].time_series\n",
    "\n",
    "# Affiche les noms des TimeSeries comportementales\n",
    "print(\"Séries dans BehavioralEvents :\", list(event_series.keys()))"
   ]
  },
  {
   "cell_type": "code",
   "execution_count": null,
   "id": "c32005f4",
   "metadata": {},
   "outputs": [],
   "source": [
    "nwb.processing['behavior'].data_interfaces['BehavioralEvents'].time_series[\"TrialOnsets\"].timestamps[:]  # Accède aux timestamps des événements \"TrialOnsets\"\n",
    "print(nwb.processing['behavior'].data_interfaces['BehavioralEvents'].time_series[\"StimFlags\"].data[:])"
   ]
  },
  {
   "cell_type": "code",
   "execution_count": null,
   "id": "eae2d74a",
   "metadata": {},
   "outputs": [],
   "source": [
    "stim_times = nwb.processing['behavior'].data_interfaces['BehavioralEvents'].time_series[\"StimFlags\"].timestamps[:]"
   ]
  },
  {
   "cell_type": "code",
   "execution_count": null,
   "id": "7b05c26c",
   "metadata": {},
   "outputs": [],
   "source": [
    "nwb_file"
   ]
  },
  {
   "cell_type": "markdown",
   "id": "a75fbd57",
   "metadata": {},
   "source": [
    "# Autres"
   ]
  },
  {
   "cell_type": "code",
   "execution_count": null,
   "id": "57cfa0dc",
   "metadata": {},
   "outputs": [],
   "source": []
  }
 ],
 "metadata": {
  "kernelspec": {
   "display_name": "lsens_nwb",
   "language": "python",
   "name": "python3"
  },
  "language_info": {
   "codemirror_mode": {
    "name": "ipython",
    "version": 3
   },
   "file_extension": ".py",
   "mimetype": "text/x-python",
   "name": "python",
   "nbconvert_exporter": "python",
   "pygments_lexer": "ipython3",
   "version": "3.9.23"
  }
 },
 "nbformat": 4,
 "nbformat_minor": 5
}
